{
  "nbformat": 4,
  "nbformat_minor": 0,
  "metadata": {
    "colab": {
      "provenance": []
    },
    "kernelspec": {
      "name": "python3",
      "display_name": "Python 3"
    },
    "language_info": {
      "name": "python"
    }
  },
  "cells": [
    {
      "cell_type": "code",
      "execution_count": 10,
      "metadata": {
        "id": "A6InFaidqgol"
      },
      "outputs": [],
      "source": [
        "import requests\n",
        "import urllib.request\n",
        "import json\n",
        "\n",
        "import numpy as np\n",
        "import pandas as pd"
      ]
    },
    {
      "cell_type": "code",
      "source": [
        "path = 'http://127.0.0.1:5000/'\n",
        "data = ('C3', 2820, 2, 'Joint', 3.0, 'X3')"
      ],
      "metadata": {
        "id": "GPyz3DbYr0yq"
      },
      "execution_count": 97,
      "outputs": []
    },
    {
      "cell_type": "code",
      "source": [
        "def send_json(x):\n",
        "    City_Code, Region_Code, Reco_Policy_Cat, Reco_Insurance_Type, Holding_Policy_Type, Health_Indicator = x\n",
        "    \n",
        "    if City_Code:\n",
        "        City_Code = str(City_Code)\n",
        "    else:\n",
        "        City_Code = ''\n",
        "\n",
        "    if Region_Code:\n",
        "        Region_Code = int(Region_Code)\n",
        "    else:\n",
        "        Region_Code = 0\n",
        "    \n",
        "    if Reco_Policy_Cat:\n",
        "        Reco_Policy_Cat = int(Reco_Policy_Cat)\n",
        "    else:\n",
        "        Reco_Policy_Cat = 0\n",
        "    \n",
        "    if not Reco_Insurance_Type:\n",
        "        Reco_Insurance_Type = '0'\n",
        "\n",
        "    if Holding_Policy_Type:\n",
        "        Holding_Policy_Type = float(Holding_Policy_Type)\n",
        "    else:\n",
        "        Holding_Policy_Type = 0.0\n",
        "\n",
        "    if not Health_Indicator:\n",
        "        Health_Indicator = '0'\n",
        "    \n",
        "    body = {\n",
        "        'City_Code': City_Code,\n",
        "        'Region_Code': Region_Code,\n",
        "        'Reco_Policy_Cat': Reco_Policy_Cat,\n",
        "        'Reco_Insurance_Type': Reco_Insurance_Type,\n",
        "        'Holding_Policy_Type': Holding_Policy_Type,\n",
        "        'Health Indicator': Health_Indicator\n",
        "    }\n",
        "    url = f'{path}/predict'\n",
        "    headers = {'content-type': 'application/json; charset=utf-8'}\n",
        "    response = requests.post(url, json=body, headers=headers)\n",
        "    return response.json()['Response']"
      ],
      "metadata": {
        "id": "7IULb0zCsIRE"
      },
      "execution_count": 157,
      "outputs": []
    },
    {
      "cell_type": "code",
      "source": [
        "response = send_json(data, path)\n",
        "print('prediction', response)"
      ],
      "metadata": {
        "id": "k2NRjNNv-o2z",
        "colab": {
          "base_uri": "https://localhost:8080/"
        },
        "outputId": "533f631c-f07e-493e-f5aa-a5622a5f9878"
      },
      "execution_count": 53,
      "outputs": [
        {
          "output_type": "stream",
          "name": "stdout",
          "text": [
            "prediction False\n"
          ]
        }
      ]
    },
    {
      "cell_type": "code",
      "source": [
        "X_test = pd.read_csv('X_test.csv')\n",
        "y_test = pd.read_csv('y_test.csv')"
      ],
      "metadata": {
        "id": "MPhOAI0d_Rh2"
      },
      "execution_count": null,
      "outputs": []
    },
    {
      "cell_type": "code",
      "source": [
        "response = send_json(X_test[['City_Code', 'Region_Code', 'Reco_Policy_Cat', 'Reco_Insurance_Type', 'Holding_Policy_Type', \\\n",
        "               'Health Indicator']].iloc[0, :])"
      ],
      "metadata": {
        "id": "0yJa8WmWJYXu"
      },
      "execution_count": 158,
      "outputs": []
    },
    {
      "cell_type": "code",
      "source": [
        "response"
      ],
      "metadata": {
        "colab": {
          "base_uri": "https://localhost:8080/"
        },
        "id": "N2ELnHuvSQd5",
        "outputId": "c5b87211-46f9-4f7a-9ab6-d10ab90e70da"
      },
      "execution_count": 159,
      "outputs": [
        {
          "output_type": "execute_result",
          "data": {
            "text/plain": [
              "True"
            ]
          },
          "metadata": {},
          "execution_count": 159
        }
      ]
    }
  ]
}